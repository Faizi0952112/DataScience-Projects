{
 "cells": [
  {
   "cell_type": "markdown",
   "id": "138897c6",
   "metadata": {},
   "source": [
    "\n",
    "## MovieLens Recommender with ALS (Spark MLlib) — Ratings Only\n",
    "\n",
    "**Dataset:** MovieLens **small** (~100k ratings)  \n",
    "**Goal:** Build a collaborative filtering recommender using **ALS** from `pyspark.ml.recommendation`.  \n",
    "**Libraries:** `pyspark.ml.recommendation`, `pyspark.sql`\n"
   ]
  },
  {
   "cell_type": "markdown",
   "id": "29068bba",
   "metadata": {},
   "source": [
    "## 1) Environment Setup"
   ]
  },
  {
   "cell_type": "code",
   "execution_count": 3,
   "id": "cf167598",
   "metadata": {},
   "outputs": [
    {
     "data": {
      "text/html": [
       "\n",
       "            <div>\n",
       "                <p><b>SparkSession - in-memory</b></p>\n",
       "                \n",
       "        <div>\n",
       "            <p><b>SparkContext</b></p>\n",
       "\n",
       "            <p><a href=\"http://QAIS:4040\">Spark UI</a></p>\n",
       "\n",
       "            <dl>\n",
       "              <dt>Version</dt>\n",
       "                <dd><code>v4.0.0</code></dd>\n",
       "              <dt>Master</dt>\n",
       "                <dd><code>local[*]</code></dd>\n",
       "              <dt>AppName</dt>\n",
       "                <dd><code>MovieLens-ALS</code></dd>\n",
       "            </dl>\n",
       "        </div>\n",
       "        \n",
       "            </div>\n",
       "        "
      ],
      "text/plain": [
       "<pyspark.sql.session.SparkSession at 0x25b71124590>"
      ]
     },
     "execution_count": 3,
     "metadata": {},
     "output_type": "execute_result"
    }
   ],
   "source": [
    "\n",
    "from pyspark.sql import SparkSession\n",
    "\n",
    "spark = (SparkSession.builder\n",
    "         .appName(\"MovieLens-ALS\")\n",
    "         .config(\"spark.sql.shuffle.partitions\", \"4\")\n",
    "         .getOrCreate())\n",
    "\n",
    "spark\n"
   ]
  },
  {
   "cell_type": "markdown",
   "id": "01cdc788",
   "metadata": {},
   "source": [
    "## 2) Load Ratings Data"
   ]
  },
  {
   "cell_type": "markdown",
   "id": "41719e7c",
   "metadata": {},
   "source": []
  }
 ],
 "metadata": {
  "kernelspec": {
   "display_name": "Python 3",
   "language": "python",
   "name": "python3"
  },
  "language_info": {
   "codemirror_mode": {
    "name": "ipython",
    "version": 3
   },
   "file_extension": ".py",
   "mimetype": "text/x-python",
   "name": "python",
   "nbconvert_exporter": "python",
   "pygments_lexer": "ipython3",
   "version": "3.13.6"
  }
 },
 "nbformat": 4,
 "nbformat_minor": 5
}
