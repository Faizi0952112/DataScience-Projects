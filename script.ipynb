{
 "cells": [
  {
   "cell_type": "markdown",
   "id": "138897c6",
   "metadata": {},
   "source": [
    "\n",
    "## MovieLens Recommender with ALS (Spark MLlib) — Ratings Only\n",
    "\n",
    "**Dataset:** MovieLens **small** (~100k ratings)  \n",
    "**Goal:** Build a collaborative filtering recommender using **ALS** from `pyspark.ml.recommendation`.  \n",
    "**Libraries:** `pyspark.ml.recommendation`, `pyspark.sql`\n"
   ]
  },
  {
   "cell_type": "markdown",
   "id": "29068bba",
   "metadata": {},
   "source": [
    "## 1) Environment Setup"
   ]
  },
  {
   "cell_type": "code",
   "execution_count": 23,
   "id": "cf167598",
   "metadata": {},
   "outputs": [],
   "source": [
    "\n",
    "from pyspark.sql import SparkSession\n",
    "\n",
    "spark = (SparkSession.builder\n",
    "         .appName(\"MovieLens-ALS\")\n",
    "         .getOrCreate())\n"
   ]
  },
  {
   "cell_type": "markdown",
   "id": "01cdc788",
   "metadata": {},
   "source": [
    "## 2) Load Ratings Data"
   ]
  },
  {
   "cell_type": "code",
   "execution_count": 24,
   "id": "f23f0e69",
   "metadata": {},
   "outputs": [
    {
     "name": "stdout",
     "output_type": "stream",
     "text": [
      "+------+-------+------+---------+\n",
      "|userId|movieId|rating|timestamp|\n",
      "+------+-------+------+---------+\n",
      "|     1|      1|   4.0|964982703|\n",
      "|     1|      3|   4.0|964981247|\n",
      "|     1|      6|   4.0|964982224|\n",
      "|     1|     47|   5.0|964983815|\n",
      "|     1|     50|   5.0|964982931|\n",
      "|     1|     70|   3.0|964982400|\n",
      "|     1|    101|   5.0|964980868|\n",
      "|     1|    110|   4.0|964982176|\n",
      "|     1|    151|   5.0|964984041|\n",
      "|     1|    157|   5.0|964984100|\n",
      "|     1|    163|   5.0|964983650|\n",
      "|     1|    216|   5.0|964981208|\n",
      "|     1|    223|   3.0|964980985|\n",
      "|     1|    231|   5.0|964981179|\n",
      "|     1|    235|   4.0|964980908|\n",
      "|     1|    260|   5.0|964981680|\n",
      "|     1|    296|   3.0|964982967|\n",
      "|     1|    316|   3.0|964982310|\n",
      "|     1|    333|   5.0|964981179|\n",
      "|     1|    349|   4.0|964982563|\n",
      "+------+-------+------+---------+\n",
      "only showing top 20 rows\n"
     ]
    }
   ],
   "source": [
    "df = (spark.read\n",
    "      .option(\"header\", \"true\")\n",
    "      .csv(\"dataset/ratings.csv\"))\n",
    "\n",
    "df.show()"
   ]
  },
  {
   "cell_type": "markdown",
   "id": "29ed1ff1",
   "metadata": {},
   "source": [
    "## 3) Select UserId,MovieId,Rating from ratings file"
   ]
  },
  {
   "cell_type": "code",
   "execution_count": 25,
   "id": "2df6b5e1",
   "metadata": {},
   "outputs": [
    {
     "name": "stdout",
     "output_type": "stream",
     "text": [
      "+------+-------+------+\n",
      "|userId|movieId|rating|\n",
      "+------+-------+------+\n",
      "|1     |1      |4.0   |\n",
      "|1     |3      |4.0   |\n",
      "|1     |6      |4.0   |\n",
      "|1     |47     |5.0   |\n",
      "|1     |50     |5.0   |\n",
      "|1     |70     |3.0   |\n",
      "|1     |101    |5.0   |\n",
      "|1     |110    |4.0   |\n",
      "|1     |151    |5.0   |\n",
      "|1     |157    |5.0   |\n",
      "+------+-------+------+\n",
      "only showing top 10 rows\n"
     ]
    }
   ],
   "source": [
    "ratings = df.select(\"userId\", \"movieId\", \"rating\")\n",
    "ratings.show(10,truncate=False)"
   ]
  },
  {
   "cell_type": "markdown",
   "id": "71a122c9",
   "metadata": {},
   "source": [
    "## 4) Split Data"
   ]
  },
  {
   "cell_type": "code",
   "execution_count": 26,
   "id": "b6db1fb0",
   "metadata": {},
   "outputs": [],
   "source": [
    "train, test = ratings.randomSplit([0.8, 0.2], seed=42)"
   ]
  },
  {
   "cell_type": "markdown",
   "id": "7d265c80",
   "metadata": {},
   "source": [
    "## 5) Build Model"
   ]
  },
  {
   "cell_type": "code",
   "execution_count": 27,
   "id": "f8134830",
   "metadata": {},
   "outputs": [],
   "source": [
    "from pyspark.ml.recommendation import ALS\n",
    "als = ALS(\n",
    "    maxIter=10,\n",
    "    regParam=0.1,\n",
    "    rank=10,\n",
    "    userCol=\"userId\",\n",
    "    itemCol=\"movieId\",\n",
    "    ratingCol=\"rating\",\n",
    "    coldStartStrategy=\"drop\"  # drop NaN predictions\n",
    ")"
   ]
  },
  {
   "cell_type": "markdown",
   "id": "bc46f892",
   "metadata": {},
   "source": [
    "## 6) Fit train data on model"
   ]
  },
  {
   "cell_type": "code",
   "execution_count": 28,
   "id": "3475bb4f",
   "metadata": {},
   "outputs": [],
   "source": [
    "from pyspark.sql.functions import col\n",
    "\n",
    "# Cast userId and movieId to integer\n",
    "train = train.withColumn(\"userId\", col(\"userId\").cast(\"integer\"))\n",
    "train = train.withColumn(\"movieId\", col(\"movieId\").cast(\"integer\"))\n",
    "train = train.withColumn(\"rating\", col(\"rating\").cast(\"float\"))\n",
    "\n",
    "\n",
    "# Do the same for test set if you have one\n",
    "test = test.withColumn(\"userId\", col(\"userId\").cast(\"integer\"))\n",
    "test = test.withColumn(\"movieId\", col(\"movieId\").cast(\"integer\"))\n",
    "test = test.withColumn(\"rating\", col(\"rating\").cast(\"float\"))\n",
    "\n",
    "# Now fit ALS\n",
    "model = als.fit(train)\n"
   ]
  },
  {
   "cell_type": "markdown",
   "id": "106c14c9",
   "metadata": {},
   "source": [
    "## 7) Evaluate Model "
   ]
  },
  {
   "cell_type": "code",
   "execution_count": 29,
   "id": "3b0b0a2c",
   "metadata": {},
   "outputs": [],
   "source": [
    "predictions = model.transform(test)"
   ]
  },
  {
   "cell_type": "code",
   "execution_count": 30,
   "id": "ad02a85e",
   "metadata": {},
   "outputs": [
    {
     "name": "stdout",
     "output_type": "stream",
     "text": [
      "Root-mean-square error = 0.877\n"
     ]
    }
   ],
   "source": [
    "from pyspark.ml.evaluation import RegressionEvaluator\n",
    "evaluator = RegressionEvaluator(\n",
    "    metricName=\"rmse\",\n",
    "    labelCol=\"rating\",\n",
    "    predictionCol=\"prediction\"\n",
    ")\n",
    "rmse = evaluator.evaluate(predictions)\n",
    "print(f\"Root-mean-square error = {rmse:.3f}\")"
   ]
  },
  {
   "cell_type": "markdown",
   "id": "4a04a73d",
   "metadata": {},
   "source": [
    "## 8) Generate Recommendations"
   ]
  },
  {
   "cell_type": "markdown",
   "id": "d2e6fc7b",
   "metadata": {},
   "source": [
    "- User Recommendations with Movie Titles"
   ]
  },
  {
   "cell_type": "code",
   "execution_count": 36,
   "id": "5158dee4",
   "metadata": {},
   "outputs": [
    {
     "name": "stdout",
     "output_type": "stream",
     "text": [
      "Sample user recommendations (with movie titles):\n",
      "+-------+------+---------+------------------------------------------------------------------------------------+----------------------+\n",
      "|movieId|userId|rating   |title                                                                               |genres                |\n",
      "+-------+------+---------+------------------------------------------------------------------------------------+----------------------+\n",
      "|27611  |1     |5.56343  |Battlestar Galactica (2003)                                                         |Drama|Sci-Fi|War      |\n",
      "|6666   |1     |5.539753 |Discreet Charm of the Bourgeoisie, The (Charme discret de la bourgeoisie, Le) (1972)|Comedy|Drama|Fantasy  |\n",
      "|3379   |1     |5.506819 |On the Beach (1959)                                                                 |Drama                 |\n",
      "|3606   |1     |5.4826846|On the Town (1949)                                                                  |Comedy|Musical|Romance|\n",
      "|132333 |1     |5.480554 |Seve (2014)                                                                         |Documentary|Drama     |\n",
      "|5490   |1     |5.480554 |The Big Bus (1976)                                                                  |Action|Comedy         |\n",
      "|3836   |1     |5.4692802|Kelly's Heroes (1970)                                                               |Action|Comedy|War     |\n",
      "|5328   |1     |5.4379053|Rain (2001)                                                                         |Drama|Romance         |\n",
      "|5137   |1     |5.4379053|Scratch (2001)                                                                      |Documentary           |\n",
      "|3030   |1     |5.434168 |Yojimbo (1961)                                                                      |Action|Adventure      |\n",
      "+-------+------+---------+------------------------------------------------------------------------------------+----------------------+\n",
      "only showing top 10 rows\n"
     ]
    }
   ],
   "source": [
    "movies = spark.read.csv(\"dataset/movies.csv\", header=True, inferSchema=True)\n",
    "from pyspark.sql.functions import explode\n",
    "\n",
    "user_recs = model.recommendForAllUsers(10)\n",
    "# Explode array to rows\n",
    "user_recs_exploded = user_recs.withColumn(\"rec\", explode(\"recommendations\")) \\\n",
    "    .select(\"userId\", \"rec.movieId\", \"rec.rating\")\n",
    "\n",
    "# Join with movies to get title and genres\n",
    "user_recs_with_movies = user_recs_exploded.join(movies, on=\"movieId\")\n",
    "\n",
    "print(\"Sample user recommendations (with movie titles):\")\n",
    "user_recs_with_movies.show(10, truncate=False)"
   ]
  },
  {
   "cell_type": "markdown",
   "id": "27330fed",
   "metadata": {},
   "source": [
    "- Movie Recommendations with User IDs"
   ]
  },
  {
   "cell_type": "code",
   "execution_count": 39,
   "id": "09bfebab",
   "metadata": {},
   "outputs": [
    {
     "name": "stdout",
     "output_type": "stream",
     "text": [
      "Sample movie recommendations (with userIds):\n",
      "+-------+------+---------+----------------------------------+----------------------------+\n",
      "|movieId|userId|rating   |title                             |genres                      |\n",
      "+-------+------+---------+----------------------------------+----------------------------+\n",
      "|6      |53    |5.0836234|Heat (1995)                       |Action|Crime|Thriller       |\n",
      "|6      |99    |4.807187 |Heat (1995)                       |Action|Crime|Thriller       |\n",
      "|9      |43    |4.244302 |Sudden Death (1995)               |Action                      |\n",
      "|9      |498   |4.1505384|Sudden Death (1995)               |Action                      |\n",
      "|12     |543   |4.473932 |Dracula: Dead and Loving It (1995)|Comedy|Horror               |\n",
      "|12     |544   |4.0560737|Dracula: Dead and Loving It (1995)|Comedy|Horror               |\n",
      "|13     |53    |3.8215892|Balto (1995)                      |Adventure|Animation|Children|\n",
      "|13     |267   |3.7578259|Balto (1995)                      |Adventure|Animation|Children|\n",
      "|14     |250   |4.7719913|Nixon (1995)                      |Drama                       |\n",
      "|14     |90    |4.677842 |Nixon (1995)                      |Drama                       |\n",
      "+-------+------+---------+----------------------------------+----------------------------+\n",
      "only showing top 10 rows\n"
     ]
    }
   ],
   "source": [
    "movie_recs = model.recommendForAllItems(2)\n",
    "\n",
    "# Explode array to rows\n",
    "movie_recs_exploded = movie_recs.withColumn(\"rec\", explode(\"recommendations\")) \\\n",
    "    .select(\"movieId\", \"rec.userId\", \"rec.rating\")\n",
    "\n",
    "# Join with movies for readability\n",
    "movie_recs_with_movies = movie_recs_exploded.join(movies, on=\"movieId\")\n",
    "\n",
    "print(\"Sample movie recommendations (with userIds):\")\n",
    "movie_recs_with_movies.show(10, truncate=False)"
   ]
  },
  {
   "cell_type": "markdown",
   "id": "861d7951",
   "metadata": {},
   "source": [
    "## 9) Stop Spark"
   ]
  },
  {
   "cell_type": "code",
   "execution_count": 40,
   "id": "28cf2c2b",
   "metadata": {},
   "outputs": [],
   "source": [
    "spark.stop()"
   ]
  }
 ],
 "metadata": {
  "kernelspec": {
   "display_name": "Python 3",
   "language": "python",
   "name": "python3"
  },
  "language_info": {
   "codemirror_mode": {
    "name": "ipython",
    "version": 3
   },
   "file_extension": ".py",
   "mimetype": "text/x-python",
   "name": "python",
   "nbconvert_exporter": "python",
   "pygments_lexer": "ipython3",
   "version": "3.13.6"
  }
 },
 "nbformat": 4,
 "nbformat_minor": 5
}
